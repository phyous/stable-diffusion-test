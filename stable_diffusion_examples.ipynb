{
 "cells": [
  {
   "cell_type": "code",
   "execution_count": 1,
   "id": "40bac917-3992-405f-86a6-27b231da62dd",
   "metadata": {},
   "outputs": [],
   "source": [
    "import torch\n",
    "import random\n",
    "import sys\n",
    "from diffusers import StableDiffusionPipeline\n",
    "from torch.cuda.amp import autocast\n",
    "from re import sub\n",
    "import time\n",
    "from IPython.display import Image\n",
    "from IPython.display import display"
   ]
  },
  {
   "cell_type": "code",
   "execution_count": 2,
   "id": "2d4ac09d-9a2d-466b-9234-9f9fb78a2e0a",
   "metadata": {},
   "outputs": [],
   "source": [
    "# Get access token from a file nammed `.HF_ACCESS_TOKEN`\n",
    "file = open('.HF_ACCESS_TOKEN', 'r')\n",
    "ACCESS_TOKEN = file.readlines()[0]\n",
    "    \n",
    "def text_2_img(prompt, output_folder=\"./output\", num_images=4):\n",
    "    def dummy(images, **kwargs):\n",
    "        return images, False\n",
    "\n",
    "    def snake_case(s):\n",
    "      return '_'.join(\n",
    "        sub('([A-Z][a-z]+)', r' \\1',\n",
    "        sub('([A-Z]+)', r' \\1',\n",
    "        s.replace('-', ' '))).split()).lower()\n",
    "\n",
    "    # With 10GB of VRAM on a 3080 – in order to fit the model in memory \n",
    "    # we create the pipeline using float16, rather than the default of float32.\n",
    "    pipe = StableDiffusionPipeline.from_pretrained(\"CompVis/stable-diffusion-v1-4\",\n",
    "                                                    revision=\"fp16\",\n",
    "                                                    torch_dtype=torch.float16,\n",
    "                                                    use_auth_token=ACCESS_TOKEN)\n",
    "    pipe.to(\"cuda\")                 # Run on GPU\n",
    "    pipe.safety_checker = dummy     # Disable NSFW check\n",
    "\n",
    "\n",
    "    snake_prompt = snake_case(prompt)[:20]\n",
    "    timestamp = int(time.time())\n",
    "    generated_files = []\n",
    "    for i in range(num_images):\n",
    "        with autocast():\n",
    "            image = pipe(prompt, guidance_scale=7.5)[\"sample\"][0]\n",
    "            save_file_name = f'{output_folder}/{i}_{timestamp}_{snake_prompt}.jpeg'\n",
    "            image.save(save_file_name)\n",
    "            generated_files.append(save_file_name)\n",
    "    \n",
    "    return generated_files"
   ]
  },
  {
   "cell_type": "code",
   "execution_count": 3,
   "id": "7903a049-da27-4b02-96bc-a6bed25d2d9b",
   "metadata": {},
   "outputs": [],
   "source": [
    "def display_images(images):\n",
    "    display(*[Image(filename=f) for f in images])"
   ]
  },
  {
   "cell_type": "code",
   "execution_count": null,
   "id": "a8b238ea-fe98-4aae-9750-f094ad7177e2",
   "metadata": {},
   "outputs": [
    {
     "name": "stderr",
     "output_type": "stream",
     "text": [
      "ftfy or spacy is not installed using BERT BasicTokenizer instead of ftfy.\n"
     ]
    },
    {
     "data": {
      "application/json": {
       "ascii": false,
       "bar_format": null,
       "colour": null,
       "elapsed": 0.013286590576171875,
       "initial": 0,
       "n": 0,
       "ncols": null,
       "nrows": 21,
       "postfix": null,
       "prefix": "",
       "rate": null,
       "total": null,
       "unit": "it",
       "unit_divisor": 1000,
       "unit_scale": false
      },
      "application/vnd.jupyter.widget-view+json": {
       "model_id": "a583c4dbcfd84b9da22aa0dcec0def06",
       "version_major": 2,
       "version_minor": 0
      },
      "text/plain": [
       "0it [00:00, ?it/s]"
      ]
     },
     "metadata": {},
     "output_type": "display_data"
    },
    {
     "data": {
      "application/json": {
       "ascii": false,
       "bar_format": null,
       "colour": null,
       "elapsed": 0.010772943496704102,
       "initial": 0,
       "n": 0,
       "ncols": null,
       "nrows": 21,
       "postfix": null,
       "prefix": "",
       "rate": null,
       "total": null,
       "unit": "it",
       "unit_divisor": 1000,
       "unit_scale": false
      },
      "application/vnd.jupyter.widget-view+json": {
       "model_id": "56ab2d379a564804b0574df2b2499a7b",
       "version_major": 2,
       "version_minor": 0
      },
      "text/plain": [
       "0it [00:00, ?it/s]"
      ]
     },
     "metadata": {},
     "output_type": "display_data"
    },
    {
     "data": {
      "application/json": {
       "ascii": false,
       "bar_format": null,
       "colour": null,
       "elapsed": 0.010558843612670898,
       "initial": 0,
       "n": 0,
       "ncols": null,
       "nrows": 21,
       "postfix": null,
       "prefix": "",
       "rate": null,
       "total": null,
       "unit": "it",
       "unit_divisor": 1000,
       "unit_scale": false
      },
      "application/vnd.jupyter.widget-view+json": {
       "model_id": "faeed097bf914022ac909fd0b4dedcad",
       "version_major": 2,
       "version_minor": 0
      },
      "text/plain": [
       "0it [00:00, ?it/s]"
      ]
     },
     "metadata": {},
     "output_type": "display_data"
    },
    {
     "data": {
      "application/json": {
       "ascii": false,
       "bar_format": null,
       "colour": null,
       "elapsed": 0.01070094108581543,
       "initial": 0,
       "n": 0,
       "ncols": null,
       "nrows": 21,
       "postfix": null,
       "prefix": "",
       "rate": null,
       "total": null,
       "unit": "it",
       "unit_divisor": 1000,
       "unit_scale": false
      },
      "application/vnd.jupyter.widget-view+json": {
       "model_id": "db44961e2da94d6abee51d281dbc48b1",
       "version_major": 2,
       "version_minor": 0
      },
      "text/plain": [
       "0it [00:00, ?it/s]"
      ]
     },
     "metadata": {},
     "output_type": "display_data"
    }
   ],
   "source": [
    "PROMPT = \"dinosaurs playing baseball in watercolor style\"\n",
    "display_images(\n",
    "    text_2_img(PROMPT)\n",
    ")"
   ]
  },
  {
   "cell_type": "code",
   "execution_count": null,
   "id": "ea1e6f0f-3f82-497b-a26e-49f2f50c2197",
   "metadata": {},
   "outputs": [],
   "source": []
  }
 ],
 "metadata": {
  "kernelspec": {
   "display_name": "venv",
   "language": "python",
   "name": "venv"
  },
  "language_info": {
   "codemirror_mode": {
    "name": "ipython",
    "version": 3
   },
   "file_extension": ".py",
   "mimetype": "text/x-python",
   "name": "python",
   "nbconvert_exporter": "python",
   "pygments_lexer": "ipython3",
   "version": "3.10.4"
  }
 },
 "nbformat": 4,
 "nbformat_minor": 5
}
